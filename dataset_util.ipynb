{
 "cells": [
  {
   "cell_type": "code",
   "execution_count": 1,
   "id": "237245bd",
   "metadata": {},
   "outputs": [],
   "source": [
    "import pandas as pd"
   ]
  },
  {
   "cell_type": "code",
   "execution_count": 2,
   "id": "d35e8b1b",
   "metadata": {},
   "outputs": [
    {
     "data": {
      "text/html": [
       "<div>\n",
       "<style scoped>\n",
       "    .dataframe tbody tr th:only-of-type {\n",
       "        vertical-align: middle;\n",
       "    }\n",
       "\n",
       "    .dataframe tbody tr th {\n",
       "        vertical-align: top;\n",
       "    }\n",
       "\n",
       "    .dataframe thead th {\n",
       "        text-align: right;\n",
       "    }\n",
       "</style>\n",
       "<table border=\"1\" class=\"dataframe\">\n",
       "  <thead>\n",
       "    <tr style=\"text-align: right;\">\n",
       "      <th></th>\n",
       "      <th>Column1</th>\n",
       "      <th>Column2</th>\n",
       "      <th>Column3</th>\n",
       "      <th>Column4</th>\n",
       "      <th>Column5</th>\n",
       "      <th>Column6</th>\n",
       "      <th>Column7</th>\n",
       "      <th>Column8</th>\n",
       "      <th>Column9</th>\n",
       "      <th>Column10</th>\n",
       "      <th>...</th>\n",
       "      <th>Column31</th>\n",
       "      <th>Column32</th>\n",
       "      <th>Column33</th>\n",
       "      <th>Column34</th>\n",
       "      <th>Column35</th>\n",
       "      <th>Column36</th>\n",
       "      <th>Column37</th>\n",
       "      <th>Column38</th>\n",
       "      <th>Column39</th>\n",
       "      <th>Column40</th>\n",
       "    </tr>\n",
       "  </thead>\n",
       "  <tbody>\n",
       "    <tr>\n",
       "      <th>0</th>\n",
       "      <td>8292.0</td>\n",
       "      <td>394.0</td>\n",
       "      <td>1234.0</td>\n",
       "      <td>699.0</td>\n",
       "      <td>5518.0</td>\n",
       "      <td>307.0</td>\n",
       "      <td>5158.0</td>\n",
       "      <td>6868.0</td>\n",
       "      <td>3129</td>\n",
       "      <td>5585</td>\n",
       "      <td>...</td>\n",
       "      <td>1151</td>\n",
       "      <td>7720</td>\n",
       "      <td>1054</td>\n",
       "      <td>2385</td>\n",
       "      <td>8419</td>\n",
       "      <td>6573</td>\n",
       "      <td>2693</td>\n",
       "      <td>3578</td>\n",
       "      <td>3441</td>\n",
       "      <td>5822</td>\n",
       "    </tr>\n",
       "    <tr>\n",
       "      <th>1</th>\n",
       "      <td>9163.0</td>\n",
       "      <td>2140.0</td>\n",
       "      <td>8356.0</td>\n",
       "      <td>7399.0</td>\n",
       "      <td>127.0</td>\n",
       "      <td>7915.0</td>\n",
       "      <td>5917.0</td>\n",
       "      <td>8570.0</td>\n",
       "      <td>35</td>\n",
       "      <td>2480</td>\n",
       "      <td>...</td>\n",
       "      <td>5936</td>\n",
       "      <td>9848</td>\n",
       "      <td>1060</td>\n",
       "      <td>4293</td>\n",
       "      <td>7248</td>\n",
       "      <td>1188</td>\n",
       "      <td>2209</td>\n",
       "      <td>3165</td>\n",
       "      <td>9758</td>\n",
       "      <td>2245</td>\n",
       "    </tr>\n",
       "    <tr>\n",
       "      <th>2</th>\n",
       "      <td>5646.0</td>\n",
       "      <td>63.0</td>\n",
       "      <td>6490.0</td>\n",
       "      <td>8834.0</td>\n",
       "      <td>2521.0</td>\n",
       "      <td>1758.0</td>\n",
       "      <td>9921.0</td>\n",
       "      <td>4059.0</td>\n",
       "      <td>8949</td>\n",
       "      <td>3805</td>\n",
       "      <td>...</td>\n",
       "      <td>1061</td>\n",
       "      <td>7411</td>\n",
       "      <td>2177</td>\n",
       "      <td>7552</td>\n",
       "      <td>6245</td>\n",
       "      <td>4698</td>\n",
       "      <td>9310</td>\n",
       "      <td>6166</td>\n",
       "      <td>8758</td>\n",
       "      <td>8259</td>\n",
       "    </tr>\n",
       "    <tr>\n",
       "      <th>3</th>\n",
       "      <td>9972.0</td>\n",
       "      <td>3783.0</td>\n",
       "      <td>5060.0</td>\n",
       "      <td>8812.0</td>\n",
       "      <td>7494.0</td>\n",
       "      <td>766.0</td>\n",
       "      <td>5074.0</td>\n",
       "      <td>8312.0</td>\n",
       "      <td>1951</td>\n",
       "      <td>1450</td>\n",
       "      <td>...</td>\n",
       "      <td>5372</td>\n",
       "      <td>1325</td>\n",
       "      <td>7110</td>\n",
       "      <td>432</td>\n",
       "      <td>138</td>\n",
       "      <td>4605</td>\n",
       "      <td>1198</td>\n",
       "      <td>5213</td>\n",
       "      <td>2917</td>\n",
       "      <td>3150</td>\n",
       "    </tr>\n",
       "    <tr>\n",
       "      <th>4</th>\n",
       "      <td>6664.0</td>\n",
       "      <td>2733.0</td>\n",
       "      <td>5207.0</td>\n",
       "      <td>428.0</td>\n",
       "      <td>3899.0</td>\n",
       "      <td>8431.0</td>\n",
       "      <td>799.0</td>\n",
       "      <td>3665.0</td>\n",
       "      <td>4009</td>\n",
       "      <td>9987</td>\n",
       "      <td>...</td>\n",
       "      <td>5306</td>\n",
       "      <td>4019</td>\n",
       "      <td>6834</td>\n",
       "      <td>513</td>\n",
       "      <td>4447</td>\n",
       "      <td>733</td>\n",
       "      <td>8944</td>\n",
       "      <td>5247</td>\n",
       "      <td>4398</td>\n",
       "      <td>2954</td>\n",
       "    </tr>\n",
       "    <tr>\n",
       "      <th>...</th>\n",
       "      <td>...</td>\n",
       "      <td>...</td>\n",
       "      <td>...</td>\n",
       "      <td>...</td>\n",
       "      <td>...</td>\n",
       "      <td>...</td>\n",
       "      <td>...</td>\n",
       "      <td>...</td>\n",
       "      <td>...</td>\n",
       "      <td>...</td>\n",
       "      <td>...</td>\n",
       "      <td>...</td>\n",
       "      <td>...</td>\n",
       "      <td>...</td>\n",
       "      <td>...</td>\n",
       "      <td>...</td>\n",
       "      <td>...</td>\n",
       "      <td>...</td>\n",
       "      <td>...</td>\n",
       "      <td>...</td>\n",
       "      <td>...</td>\n",
       "    </tr>\n",
       "    <tr>\n",
       "      <th>9995</th>\n",
       "      <td>8131.0</td>\n",
       "      <td>4433.0</td>\n",
       "      <td>1458.0</td>\n",
       "      <td>4716.0</td>\n",
       "      <td>8626.0</td>\n",
       "      <td>2862.0</td>\n",
       "      <td>6773.0</td>\n",
       "      <td>7615.0</td>\n",
       "      <td>9270</td>\n",
       "      <td>7433</td>\n",
       "      <td>...</td>\n",
       "      <td>276</td>\n",
       "      <td>8040</td>\n",
       "      <td>6096</td>\n",
       "      <td>1735</td>\n",
       "      <td>2756</td>\n",
       "      <td>4723</td>\n",
       "      <td>4597</td>\n",
       "      <td>9530</td>\n",
       "      <td>2339</td>\n",
       "      <td>3868</td>\n",
       "    </tr>\n",
       "    <tr>\n",
       "      <th>9996</th>\n",
       "      <td>6963.0</td>\n",
       "      <td>5721.0</td>\n",
       "      <td>3752.0</td>\n",
       "      <td>517.0</td>\n",
       "      <td>7087.0</td>\n",
       "      <td>3706.0</td>\n",
       "      <td>5795.0</td>\n",
       "      <td>9613.0</td>\n",
       "      <td>7755</td>\n",
       "      <td>3336</td>\n",
       "      <td>...</td>\n",
       "      <td>9219</td>\n",
       "      <td>3979</td>\n",
       "      <td>9695</td>\n",
       "      <td>2971</td>\n",
       "      <td>4496</td>\n",
       "      <td>6782</td>\n",
       "      <td>6678</td>\n",
       "      <td>291</td>\n",
       "      <td>6396</td>\n",
       "      <td>4433</td>\n",
       "    </tr>\n",
       "    <tr>\n",
       "      <th>9997</th>\n",
       "      <td>3627.0</td>\n",
       "      <td>7217.0</td>\n",
       "      <td>176.0</td>\n",
       "      <td>8342.0</td>\n",
       "      <td>3772.0</td>\n",
       "      <td>6210.0</td>\n",
       "      <td>8913.0</td>\n",
       "      <td>552.0</td>\n",
       "      <td>5362</td>\n",
       "      <td>7655</td>\n",
       "      <td>...</td>\n",
       "      <td>6081</td>\n",
       "      <td>8865</td>\n",
       "      <td>8791</td>\n",
       "      <td>6257</td>\n",
       "      <td>7207</td>\n",
       "      <td>2564</td>\n",
       "      <td>2468</td>\n",
       "      <td>6120</td>\n",
       "      <td>3116</td>\n",
       "      <td>7830</td>\n",
       "    </tr>\n",
       "    <tr>\n",
       "      <th>9998</th>\n",
       "      <td>3776.0</td>\n",
       "      <td>357.0</td>\n",
       "      <td>4008.0</td>\n",
       "      <td>450.0</td>\n",
       "      <td>2326.0</td>\n",
       "      <td>7098.0</td>\n",
       "      <td>7878.0</td>\n",
       "      <td>1781.0</td>\n",
       "      <td>1823</td>\n",
       "      <td>657</td>\n",
       "      <td>...</td>\n",
       "      <td>1913</td>\n",
       "      <td>4853</td>\n",
       "      <td>499</td>\n",
       "      <td>5921</td>\n",
       "      <td>5304</td>\n",
       "      <td>2825</td>\n",
       "      <td>3020</td>\n",
       "      <td>3183</td>\n",
       "      <td>4607</td>\n",
       "      <td>4843</td>\n",
       "    </tr>\n",
       "    <tr>\n",
       "      <th>9999</th>\n",
       "      <td>3841.0</td>\n",
       "      <td>2858.0</td>\n",
       "      <td>5365.0</td>\n",
       "      <td>6497.0</td>\n",
       "      <td>1559.0</td>\n",
       "      <td>4282.0</td>\n",
       "      <td>4124.0</td>\n",
       "      <td>5206.0</td>\n",
       "      <td>8377</td>\n",
       "      <td>3398</td>\n",
       "      <td>...</td>\n",
       "      <td>149</td>\n",
       "      <td>5056</td>\n",
       "      <td>6464</td>\n",
       "      <td>5515</td>\n",
       "      <td>1554</td>\n",
       "      <td>8023</td>\n",
       "      <td>9798</td>\n",
       "      <td>5678</td>\n",
       "      <td>3230</td>\n",
       "      <td>8175</td>\n",
       "    </tr>\n",
       "  </tbody>\n",
       "</table>\n",
       "<p>10000 rows × 40 columns</p>\n",
       "</div>"
      ],
      "text/plain": [
       "      Column1  Column2  Column3  Column4  Column5  Column6  Column7  Column8  \\\n",
       "0      8292.0    394.0   1234.0    699.0   5518.0    307.0   5158.0   6868.0   \n",
       "1      9163.0   2140.0   8356.0   7399.0    127.0   7915.0   5917.0   8570.0   \n",
       "2      5646.0     63.0   6490.0   8834.0   2521.0   1758.0   9921.0   4059.0   \n",
       "3      9972.0   3783.0   5060.0   8812.0   7494.0    766.0   5074.0   8312.0   \n",
       "4      6664.0   2733.0   5207.0    428.0   3899.0   8431.0    799.0   3665.0   \n",
       "...       ...      ...      ...      ...      ...      ...      ...      ...   \n",
       "9995   8131.0   4433.0   1458.0   4716.0   8626.0   2862.0   6773.0   7615.0   \n",
       "9996   6963.0   5721.0   3752.0    517.0   7087.0   3706.0   5795.0   9613.0   \n",
       "9997   3627.0   7217.0    176.0   8342.0   3772.0   6210.0   8913.0    552.0   \n",
       "9998   3776.0    357.0   4008.0    450.0   2326.0   7098.0   7878.0   1781.0   \n",
       "9999   3841.0   2858.0   5365.0   6497.0   1559.0   4282.0   4124.0   5206.0   \n",
       "\n",
       "      Column9  Column10  ...  Column31  Column32  Column33  Column34  \\\n",
       "0        3129      5585  ...      1151      7720      1054      2385   \n",
       "1          35      2480  ...      5936      9848      1060      4293   \n",
       "2        8949      3805  ...      1061      7411      2177      7552   \n",
       "3        1951      1450  ...      5372      1325      7110       432   \n",
       "4        4009      9987  ...      5306      4019      6834       513   \n",
       "...       ...       ...  ...       ...       ...       ...       ...   \n",
       "9995     9270      7433  ...       276      8040      6096      1735   \n",
       "9996     7755      3336  ...      9219      3979      9695      2971   \n",
       "9997     5362      7655  ...      6081      8865      8791      6257   \n",
       "9998     1823       657  ...      1913      4853       499      5921   \n",
       "9999     8377      3398  ...       149      5056      6464      5515   \n",
       "\n",
       "      Column35  Column36  Column37  Column38  Column39  Column40  \n",
       "0         8419      6573      2693      3578      3441      5822  \n",
       "1         7248      1188      2209      3165      9758      2245  \n",
       "2         6245      4698      9310      6166      8758      8259  \n",
       "3          138      4605      1198      5213      2917      3150  \n",
       "4         4447       733      8944      5247      4398      2954  \n",
       "...        ...       ...       ...       ...       ...       ...  \n",
       "9995      2756      4723      4597      9530      2339      3868  \n",
       "9996      4496      6782      6678       291      6396      4433  \n",
       "9997      7207      2564      2468      6120      3116      7830  \n",
       "9998      5304      2825      3020      3183      4607      4843  \n",
       "9999      1554      8023      9798      5678      3230      8175  \n",
       "\n",
       "[10000 rows x 40 columns]"
      ]
     },
     "execution_count": 2,
     "metadata": {},
     "output_type": "execute_result"
    }
   ],
   "source": [
    "df = pd.read_csv(\"og_dataset.csv\")\n",
    "df"
   ]
  },
  {
   "cell_type": "code",
   "execution_count": 3,
   "id": "43b16285",
   "metadata": {},
   "outputs": [
    {
     "data": {
      "text/plain": [
       "[7497, 1075, 2414, 4060, 4333, 1128, 3316]"
      ]
     },
     "execution_count": 3,
     "metadata": {},
     "output_type": "execute_result"
    }
   ],
   "source": [
    "import random \n",
    "# G\n",
    "random.sample(range(1, 10000), 7)"
   ]
  },
  {
   "cell_type": "code",
   "execution_count": 4,
   "id": "033aa0bd",
   "metadata": {},
   "outputs": [
    {
     "data": {
      "text/plain": [
       "[3176,\n",
       " 9408,\n",
       " 4117,\n",
       " 9407,\n",
       " 3760,\n",
       " 8547,\n",
       " 205,\n",
       " 7762,\n",
       " 9487,\n",
       " 7725,\n",
       " 4294,\n",
       " 7538,\n",
       " 565,\n",
       " 3055,\n",
       " 5608]"
      ]
     },
     "execution_count": 4,
     "metadata": {},
     "output_type": "execute_result"
    }
   ],
   "source": [
    "# O\n",
    "random.sample(range(1, 10000), 15)"
   ]
  },
  {
   "cell_type": "code",
   "execution_count": 5,
   "id": "23bc0ab6",
   "metadata": {},
   "outputs": [
    {
     "data": {
      "text/plain": [
       "[470,\n",
       " 7449,\n",
       " 8789,\n",
       " 611,\n",
       " 7056,\n",
       " 526,\n",
       " 4732,\n",
       " 8910,\n",
       " 5713,\n",
       " 172,\n",
       " 5835,\n",
       " 1706,\n",
       " 8462,\n",
       " 9413,\n",
       " 2656,\n",
       " 9012,\n",
       " 9192,\n",
       " 1034,\n",
       " 4203,\n",
       " 4738]"
      ]
     },
     "execution_count": 5,
     "metadata": {},
     "output_type": "execute_result"
    }
   ],
   "source": [
    "# T\n",
    "random.sample(range(1, 10000), 20)"
   ]
  },
  {
   "cell_type": "code",
   "execution_count": 6,
   "id": "4d9c88e8",
   "metadata": {},
   "outputs": [
    {
     "data": {
      "text/plain": [
       "[1717,\n",
       " 8786,\n",
       " 2467,\n",
       " 4056,\n",
       " 6729,\n",
       " 3593,\n",
       " 6685,\n",
       " 747,\n",
       " 9887,\n",
       " 1836,\n",
       " 6801,\n",
       " 5076,\n",
       " 9990,\n",
       " 3141,\n",
       " 2792]"
      ]
     },
     "execution_count": 6,
     "metadata": {},
     "output_type": "execute_result"
    }
   ],
   "source": [
    "# O\n",
    "random.sample(range(1, 10000), 15)"
   ]
  },
  {
   "cell_type": "code",
   "execution_count": 7,
   "id": "3d0b6212",
   "metadata": {},
   "outputs": [
    {
     "data": {
      "text/plain": [
       "[7134]"
      ]
     },
     "execution_count": 7,
     "metadata": {},
     "output_type": "execute_result"
    }
   ],
   "source": [
    "# 1\n",
    "random.sample(range(1, 10000), 1)"
   ]
  },
  {
   "cell_type": "code",
   "execution_count": 8,
   "id": "93d13c7a",
   "metadata": {},
   "outputs": [
    {
     "data": {
      "text/plain": [
       "[8076, 1651]"
      ]
     },
     "execution_count": 8,
     "metadata": {},
     "output_type": "execute_result"
    }
   ],
   "source": [
    "# 2\n",
    "random.sample(range(1, 10000), 2)"
   ]
  },
  {
   "cell_type": "code",
   "execution_count": 9,
   "id": "9dd3a7ea",
   "metadata": {},
   "outputs": [
    {
     "data": {
      "text/plain": [
       "[9965]"
      ]
     },
     "execution_count": 9,
     "metadata": {},
     "output_type": "execute_result"
    }
   ],
   "source": [
    "# 1\n",
    "random.sample(range(1, 10000), 1)"
   ]
  },
  {
   "cell_type": "code",
   "execution_count": 10,
   "id": "d07711de",
   "metadata": {},
   "outputs": [
    {
     "data": {
      "text/plain": [
       "[9656, 1256]"
      ]
     },
     "execution_count": 10,
     "metadata": {},
     "output_type": "execute_result"
    }
   ],
   "source": [
    "# 2\n",
    "random.sample(range(1, 10000), 2)"
   ]
  },
  {
   "cell_type": "code",
   "execution_count": 11,
   "id": "68a05dd8",
   "metadata": {},
   "outputs": [],
   "source": [
    "# df['Column1'][0] = 'NaN'"
   ]
  },
  {
   "cell_type": "code",
   "execution_count": 12,
   "id": "0826253d",
   "metadata": {},
   "outputs": [
    {
     "data": {
      "text/plain": [
       "Column1      7\n",
       "Column2     15\n",
       "Column3     20\n",
       "Column4     15\n",
       "Column5      1\n",
       "Column6      2\n",
       "Column7      1\n",
       "Column8      2\n",
       "Column9      0\n",
       "Column10     0\n",
       "Column11     0\n",
       "Column12     0\n",
       "Column13     0\n",
       "Column14     0\n",
       "Column15     0\n",
       "Column16     0\n",
       "Column17     0\n",
       "Column18     0\n",
       "Column19     0\n",
       "Column20     0\n",
       "Column21     0\n",
       "Column22     0\n",
       "Column23     0\n",
       "Column24     0\n",
       "Column25     0\n",
       "Column26     0\n",
       "Column27     0\n",
       "Column28     0\n",
       "Column29     0\n",
       "Column30     0\n",
       "Column31     0\n",
       "Column32     0\n",
       "Column33     0\n",
       "Column34     0\n",
       "Column35     0\n",
       "Column36     0\n",
       "Column37     0\n",
       "Column38     0\n",
       "Column39     0\n",
       "Column40     0\n",
       "dtype: int64"
      ]
     },
     "execution_count": 12,
     "metadata": {},
     "output_type": "execute_result"
    }
   ],
   "source": [
    "df.isnull().sum()"
   ]
  },
  {
   "cell_type": "code",
   "execution_count": null,
   "id": "1b47c6c4",
   "metadata": {},
   "outputs": [],
   "source": []
  }
 ],
 "metadata": {
  "kernelspec": {
   "display_name": "Python 3",
   "language": "python",
   "name": "python3"
  },
  "language_info": {
   "codemirror_mode": {
    "name": "ipython",
    "version": 3
   },
   "file_extension": ".py",
   "mimetype": "text/x-python",
   "name": "python",
   "nbconvert_exporter": "python",
   "pygments_lexer": "ipython3",
   "version": "3.8.8"
  }
 },
 "nbformat": 4,
 "nbformat_minor": 5
}
